{
 "cells": [
  {
   "cell_type": "raw",
   "id": "3eb51e5a-d2d6-4b08-b168-2c3d8d1f3724",
   "metadata": {},
   "source": [
    "ans1:-    A for loop is generally used when you have a fixed number of iterations to perform. It iterates over a sequence (e.g., list, tuple, string, range)\n",
    "for examle:-\n",
    "fruits = [\"apple\", \"banana\", \"cherry\"]\n",
    "for fruit in fruits:\n",
    "    print(fruit)\n",
    "On the other hand, a while loop is used when you want to repeat a block of code until a certain condition is met. The loop will continue to execute until the condition becomes False. \n",
    "for examle:\n",
    "count = 0\n",
    "while count < 5:\n",
    "    print(count)\n",
    "    count += 1\n"
   ]
  },
  {
   "cell_type": "code",
   "execution_count": 2,
   "id": "5e86cd44-bf30-4d32-9de9-1d3941e83c03",
   "metadata": {},
   "outputs": [
    {
     "name": "stdout",
     "output_type": "stream",
     "text": [
      "Sum of the first 10 natural numbers: 55\n",
      "Product of the first 10 natural numbers: 3628800\n"
     ]
    }
   ],
   "source": [
    "ans:-2\n",
    "# Using a for loop\n",
    "sum = 0\n",
    "product = 1\n",
    "for i in range(1, 11):\n",
    "    sum += i\n",
    "    product *= i\n",
    "\n",
    "print(\"Sum of the first 10 natural numbers:\", sum)\n",
    "print(\"Product of the first 10 natural numbers:\", product)\n"
   ]
  },
  {
   "cell_type": "code",
   "execution_count": 3,
   "id": "d7d2390d-aa81-48d1-8829-0d08969a8fa7",
   "metadata": {},
   "outputs": [
    {
     "name": "stdout",
     "output_type": "stream",
     "text": [
      "Sum of the first 10 natural numbers: 55\n",
      "Product of the first 10 natural numbers: 3628800\n"
     ]
    }
   ],
   "source": [
    "ans:-2\n",
    "# Using a while loop\n",
    "sum = 0\n",
    "product = 1\n",
    "count = 1\n",
    "while count <= 10:\n",
    "    sum += count\n",
    "    product *= count\n",
    "    count += 1\n",
    "\n",
    "print(\"Sum of the first 10 natural numbers:\", sum)\n",
    "print(\"Product of the first 10 natural numbers:\", product)\n",
    "ans:-2"
   ]
  },
  {
   "cell_type": "code",
   "execution_count": 8,
   "id": "01cbb8cc-9cca-4551-aa00-9a75ad5e6335",
   "metadata": {},
   "outputs": [
    {
     "name": "stdout",
     "output_type": "stream",
     "text": [
      "Numbers whose cube is divisible by 4 or 5 (using for loop):\n",
      "1000000\n"
     ]
    }
   ],
   "source": [
    "#ans4:-\n",
    "# Using a for loop\n",
    "cubes = []\n",
    "for num in range(1, 101):\n",
    "    cube = num ** 3\n",
    "    if cube % 4 == 0 or cube % 5 == 0:\n",
    "        cubes.append(num)\n",
    "\n",
    "print(\"Numbers whose cube is divisible by 4 or 5 (using for loop):\")\n",
    "print(cube)"
   ]
  },
  {
   "cell_type": "code",
   "execution_count": 11,
   "id": "1e3208ce-20d1-40db-b3d8-c25a25a6b35c",
   "metadata": {},
   "outputs": [
    {
     "name": "stdout",
     "output_type": "stream",
     "text": [
      "Numbers whose cube is divisible by 4 or 5 (using while loop):\n",
      "[2, 4, 5, 6, 8, 10, 12, 14, 15, 16, 18, 20, 22, 24, 25, 26, 28, 30, 32, 34, 35, 36, 38, 40, 42, 44, 45, 46, 48, 50, 52, 54, 55, 56, 58, 60, 62, 64, 65, 66, 68, 70, 72, 74, 75, 76, 78, 80, 82, 84, 85, 86, 88, 90, 92, 94, 95, 96, 98, 100]\n"
     ]
    }
   ],
   "source": [
    "#ans:-4\n",
    "# Using a while loop\n",
    "cubes = []\n",
    "num = 1\n",
    "while num <= 100:\n",
    "    cube = num ** 3\n",
    "    if cube % 4 == 0 or cube % 5 == 0:\n",
    "        cubes.append(num)\n",
    "    num += 1\n",
    "\n",
    "print(\"Numbers whose cube is divisible by 4 or 5 (using while loop):\")\n",
    "print(cubes)\n"
   ]
  },
  {
   "cell_type": "code",
   "execution_count": 14,
   "id": "b3892700-8233-47aa-83eb-4fb8f994ac6f",
   "metadata": {},
   "outputs": [
    {
     "name": "stdout",
     "output_type": "stream",
     "text": [
      "Number of vowels in the string: 18\n"
     ]
    }
   ],
   "source": [
    "#ans:-5\n",
    "string = \"I want to become a data scientist\"\n",
    "\n",
    "vowels = \"aeiou AEIOU\"\n",
    "count = 0\n",
    "\n",
    "for char in string:\n",
    "    if char in vowels:\n",
    "        count  += 1\n",
    "\n",
    "print(\"Number of vowels in the string:\", count)\n"
   ]
  },
  {
   "cell_type": "code",
   "execution_count": null,
   "id": "39779193-87f1-4307-84e8-b11f2035aa1d",
   "metadata": {},
   "outputs": [],
   "source": []
  }
 ],
 "metadata": {
  "kernelspec": {
   "display_name": "Python 3 (ipykernel)",
   "language": "python",
   "name": "python3"
  },
  "language_info": {
   "codemirror_mode": {
    "name": "ipython",
    "version": 3
   },
   "file_extension": ".py",
   "mimetype": "text/x-python",
   "name": "python",
   "nbconvert_exporter": "python",
   "pygments_lexer": "ipython3",
   "version": "3.10.6"
  }
 },
 "nbformat": 4,
 "nbformat_minor": 5
}
